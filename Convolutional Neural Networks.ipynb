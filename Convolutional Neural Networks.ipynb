{
 "cells": [
  {
   "cell_type": "markdown",
   "id": "c238515c",
   "metadata": {},
   "source": [
    "# Import library"
   ]
  },
  {
   "cell_type": "code",
   "execution_count": 3,
   "id": "20512abe",
   "metadata": {},
   "outputs": [],
   "source": [
    "import tenserflow as tf\n",
    "import keras.preprocessing.image import imagegenerator"
   ]
  },
  {
   "cell_type": "markdown",
   "id": "0066e6e4",
   "metadata": {},
   "source": [
    "# Data Preprocessing"
   ]
  },
  {
   "cell_type": "code",
   "execution_count": null,
   "id": "b5ba985d",
   "metadata": {},
   "outputs": [],
   "source": [
    "# Initialising the generators for test data\n",
    "test_datagen = ImageDataGenerator(rescale = 1./255)\n",
    "test_set = test_datagen.flow_from_directory('dataset/training_set',\n",
    "                                           target_size = (64,64),\n",
    "                                           batch_size = 32,\n",
    "                                           class_mode = 'binary')"
   ]
  },
  {
   "cell_type": "code",
   "execution_count": null,
   "id": "8d403eac",
   "metadata": {},
   "outputs": [],
   "source": [
    "# Initialising the generators for train data\n",
    "train_datagen = ImageDataGenerator(rescale = 1./255,\n",
    "                                   shear_range = 0.2,\n",
    "                                   zoom_range = 0.2,\n",
    "                                   horizontal_flip = True)\n",
    "\n",
    "training_set = train_datagen.flow_from_directory('dataset/training_set',\n",
    "                                                 target_size = (64, 64),\n",
    "                                                 batch_size = 32,\n",
    "                                                 class_mode = 'binary')"
   ]
  },
  {
   "cell_type": "markdown",
   "id": "9d059fe7",
   "metadata": {},
   "source": [
    "# Buld CNN"
   ]
  },
  {
   "cell_type": "markdown",
   "id": "5767445a",
   "metadata": {},
   "source": [
    "Convolution"
   ]
  },
  {
   "cell_type": "code",
   "execution_count": null,
   "id": "ec0145f5",
   "metadata": {},
   "outputs": [],
   "source": [
    "cnn = tf.keras.Sequntal()"
   ]
  },
  {
   "cell_type": "code",
   "execution_count": null,
   "id": "8c8d10d8",
   "metadata": {},
   "outputs": [],
   "source": [
    "cnn.add(tf.keras.layers.Conv2D(filters = 32, kernal_size = 3, activation = 'relu', input_shape=[64, 64, 3])"
   ]
  },
  {
   "cell_type": "markdown",
   "id": "bcb4807f",
   "metadata": {},
   "source": [
    "Polling"
   ]
  },
  {
   "cell_type": "code",
   "execution_count": null,
   "id": "07a793cc",
   "metadata": {},
   "outputs": [],
   "source": [
    "cnn.add(tf.keras.layers.MaxPool2D(pool_size = 2, stride = 2, )"
   ]
  },
  {
   "cell_type": "markdown",
   "id": "acb1c0b6",
   "metadata": {},
   "source": [
    "Adding a second convolutional layer"
   ]
  },
  {
   "cell_type": "code",
   "execution_count": null,
   "id": "f2f893b2",
   "metadata": {},
   "outputs": [],
   "source": [
    "cnn.add(tf.keras.layers.Conv2D(filters = 32, kernal_size = 3, activation = 'relu'))\n",
    "cnn.add(tf.keras.layers.MaxPool2D(pool_size = 2, stride = 2))"
   ]
  },
  {
   "cell_type": "markdown",
   "id": "ee85e4b8",
   "metadata": {},
   "source": [
    "Flattening"
   ]
  },
  {
   "cell_type": "code",
   "execution_count": null,
   "id": "aacdcb0d",
   "metadata": {},
   "outputs": [],
   "source": [
    "cnn.add(tf.keras.layers.Flatten())"
   ]
  },
  {
   "cell_type": "markdown",
   "id": "f0bc8188",
   "metadata": {},
   "source": [
    "Full Conenction"
   ]
  },
  {
   "cell_type": "code",
   "execution_count": null,
   "id": "89e61435",
   "metadata": {},
   "outputs": [],
   "source": [
    "cnn.add(tf.keras.layers.Dense(unite = 128,\n",
    "                             activation = 'relu',\n",
    "                             ))"
   ]
  },
  {
   "cell_type": "markdown",
   "id": "7c2cedac",
   "metadata": {},
   "source": [
    "OutPut Layer"
   ]
  },
  {
   "cell_type": "code",
   "execution_count": null,
   "id": "5313372b",
   "metadata": {},
   "outputs": [],
   "source": [
    "cnn.add(tf.keras.layers.Dense(unite = 1, activatin = 'sigmoid'))"
   ]
  },
  {
   "cell_type": "markdown",
   "id": "2ece8c7c",
   "metadata": {},
   "source": [
    "# Training CNN"
   ]
  },
  {
   "cell_type": "markdown",
   "id": "5e95ef08",
   "metadata": {},
   "source": [
    "Compile cnn"
   ]
  },
  {
   "cell_type": "code",
   "execution_count": null,
   "id": "fe1363c5",
   "metadata": {},
   "outputs": [],
   "source": [
    "cnn.compile(optimizer = 'adam',loss = 'binary_crossentropy',metrics = ['accuracy'])"
   ]
  },
  {
   "cell_type": "code",
   "execution_count": null,
   "id": "07570817",
   "metadata": {},
   "outputs": [],
   "source": [
    "cnn.fit(x = trining_set , validation_data = test_data, epocks = 32)"
   ]
  }
 ],
 "metadata": {
  "kernelspec": {
   "display_name": "Python 3 (ipykernel)",
   "language": "python",
   "name": "python3"
  },
  "language_info": {
   "codemirror_mode": {
    "name": "ipython",
    "version": 3
   },
   "file_extension": ".py",
   "mimetype": "text/x-python",
   "name": "python",
   "nbconvert_exporter": "python",
   "pygments_lexer": "ipython3",
   "version": "3.9.13"
  }
 },
 "nbformat": 4,
 "nbformat_minor": 5
}
